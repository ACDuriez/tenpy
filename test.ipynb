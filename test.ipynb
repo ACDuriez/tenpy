{
 "cells": [
  {
   "cell_type": "code",
   "execution_count": 1,
   "metadata": {},
   "outputs": [],
   "source": [
    "import logging\n",
    "logging.basicConfig(level=logging.INFO, format='%(asctime)s - %(name)s - %(levelname)s - %(message)s')\n",
    "from tenpy.models.xxz_chain import XXZChain\n",
    "from tenpy.algorithms import my_tebd as tebd\n",
    "logger = logging.getLogger('/Users/alanduriez/Desktop/Python/tenpy/tenpy/algorithms/my_tebd.py')\n",
    "import numpy as np\n",
    "from tenpy.networks.mps import MPS\n",
    "from tenpy.models.model import CouplingModel, NearestNeighborModel, MPOModel,CouplingMPOModel\n",
    "from tenpy.networks.site import SpinSite\n",
    "from tenpy.networks.site import SpinHalfSite\n",
    "from tenpy.models.lattice import Chain\n",
    "from qiskit.quantum_info import Statevector,Operator\n",
    "from src.utils import get_line_graph,get_heisenberg_hamiltonian,get_eigen_decomposition,get_mag_x_op,get_mag_y_op,get_mag_z_op\n",
    "# logger = logging.getLogger(__name__)\n",
    "import matplotlib.pyplot as plt"
   ]
  },
  {
   "cell_type": "code",
   "execution_count": 6,
   "metadata": {},
   "outputs": [
    {
     "data": {
      "text/plain": [
       "np.complex128(-1+1.2246467991473532e-16j)"
      ]
     },
     "execution_count": 6,
     "metadata": {},
     "output_type": "execute_result"
    }
   ],
   "source": [
    "np.exp(np.pi*1.j)"
   ]
  },
  {
   "cell_type": "code",
   "execution_count": 2,
   "metadata": {},
   "outputs": [],
   "source": [
    "class XXZChain(CouplingModel,MPOModel):\n",
    "    def __init__(self, model_params):\n",
    "\n",
    "        L = model_params['L']\n",
    "        hz = model_params['hz']\n",
    "        conserve = model_params['conserve']\n",
    "        Jxy = model_params['Jxy']\n",
    "        Jz = model_params['Jz']\n",
    "        bc = model_params['bc']\n",
    "        bc_MPS = model_params['bc_MPS']\n",
    "        spin = SpinHalfSite(conserve=conserve)\n",
    "        # the lattice defines the geometry\n",
    "        lattice = Chain(L, \n",
    "                        spin, \n",
    "                        bc=bc, \n",
    "                        bc_MPS=bc_MPS)\n",
    "        CouplingModel.__init__(self, lattice)\n",
    "        # add terms of the Hamiltonian\n",
    "        self.add_coupling(Jxy, 0, \"Sigmax\", 0, \"Sigmax\", 1)\n",
    "        self.add_coupling(Jxy, 0, \"Sigmay\", 0, \"Sigmay\", 1)\n",
    "        self.add_coupling(Jz, 0, \"Sigmaz\", 0, \"Sigmaz\", 1) # interaction\n",
    "        \n",
    "        self.add_onsite(hz, 0, \"Sigmaz\") # transverse field\n",
    "\n",
    "        # generate H_bond for TEBD\n",
    "        NearestNeighborModel.__init__(self, lattice, self.calc_H_bond())\n",
    "        # finish initialization\n",
    "        # generate MPO for DMRG\n",
    "        MPOModel.__init__(self, lattice, self.calc_H_MPO())"
   ]
  },
  {
   "cell_type": "code",
   "execution_count": 3,
   "metadata": {},
   "outputs": [
    {
     "name": "stderr",
     "output_type": "stream",
     "text": [
      "2024-08-02 14:11:34,224 - tenpy.tools.params - INFO - TEBDEngine: subconfig 'trunc_params'=Config(<2 options>, 'trunc_params')\n"
     ]
    }
   ],
   "source": [
    "max_workers = 1\n",
    "L = 8; Jxy = -0.1; Jz = -0.5; hz = 0.7\n",
    "bc = 'open'\n",
    "bc_MPS = 'finite'\n",
    "\n",
    "model_params = dict(bc=bc,\n",
    "                    bc_MPS =bc_MPS,\n",
    "                    conserve='None',\n",
    "                    L=L,\n",
    "                    hz=hz,\n",
    "                    Jxy=Jxy,\n",
    "                    Jz=Jz)\n",
    "\n",
    "model = XXZChain(model_params)\n",
    "sites = model.lat.mps_sites()\n",
    "theta, phi = np.pi/2, np.pi/2\n",
    "bloch_sphere_state = np.array([np.cos(theta/2),np.sin(theta/2)])\n",
    "psi = MPS.from_product_state(sites, [bloch_sphere_state] * L, bc_MPS) \n",
    "\n",
    "tebd_params = {\n",
    "    'N_steps': 1,\n",
    "    'dt': 0.1,\n",
    "    'order': 4,\n",
    "    'trunc_params': {'chi_max': 100, 'svd_min': 1.e-12}\n",
    "}\n",
    "eng = tebd.TEBDEngine(psi, model, tebd_params)\n",
    "# dmrg_params = {\"trunc_params\": {\"chi_max\": 100, \"svd_min\": 1.e-10}, \"mixer\": True}\n",
    "# info = dmrg.run(psi, model, dmrg_params)\n",
    "# print(\"E =\", info['E'])\n",
    "# print(\"max. bond dimension =\", max(psi.chi))"
   ]
  },
  {
   "cell_type": "code",
   "execution_count": 4,
   "metadata": {},
   "outputs": [],
   "source": [
    "logger = logging.getLogger(__name__)"
   ]
  },
  {
   "cell_type": "code",
   "execution_count": 5,
   "metadata": {},
   "outputs": [
    {
     "name": "stderr",
     "output_type": "stream",
     "text": [
      "2024-08-02 14:11:34,238 - tenpy.tools.params - INFO - TEBDEngine: reading 'dt'=0.1\n",
      "2024-08-02 14:11:34,238 - tenpy.tools.params - INFO - TEBDEngine: reading 'N_steps'=1\n",
      "2024-08-02 14:11:34,239 - tenpy.tools.params - INFO - TEBDEngine: reading 'order'=4\n",
      "2024-08-02 14:11:34,239 - tenpy.algorithms.my_tebd - INFO - Calculate U for {'order': 4, 'delta_t': 0.1, 'type_evo': 'real', 'E_offset': None, 'tau': 0.1}\n",
      "2024-08-02 14:11:34,257 - tenpy.tools.params - INFO - trunc_params: reading 'chi_max'=100\n",
      "2024-08-02 14:11:34,258 - tenpy.tools.params - INFO - trunc_params: reading 'svd_min'=1e-12\n",
      "2024-08-02 14:11:34,289 - tenpy.algorithms.algorithm - INFO - --> time=0.100, max(chi)=8, max(S)=0.01191, avg DeltaS=1.1904e-02, since last update: 0.1s\n",
      "2024-08-02 14:11:34,326 - tenpy.algorithms.algorithm - INFO - --> time=0.200, max(chi)=10, max(S)=0.03879, avg DeltaS=2.6869e-02, since last update: 0.0s\n",
      "2024-08-02 14:11:34,361 - tenpy.algorithms.algorithm - INFO - --> time=0.300, max(chi)=10, max(S)=0.07571, avg DeltaS=3.6853e-02, since last update: 0.0s\n",
      "2024-08-02 14:11:34,398 - tenpy.algorithms.algorithm - INFO - --> time=0.400, max(chi)=14, max(S)=0.12004, avg DeltaS=4.4178e-02, since last update: 0.0s\n",
      "2024-08-02 14:11:34,433 - tenpy.algorithms.algorithm - INFO - --> time=0.500, max(chi)=16, max(S)=0.16990, avg DeltaS=4.9595e-02, since last update: 0.0s\n",
      "2024-08-02 14:11:34,472 - tenpy.algorithms.algorithm - INFO - --> time=0.600, max(chi)=16, max(S)=0.22377, avg DeltaS=5.3458e-02, since last update: 0.0s\n",
      "2024-08-02 14:11:34,512 - tenpy.algorithms.algorithm - INFO - --> time=0.700, max(chi)=16, max(S)=0.28028, avg DeltaS=5.5949e-02, since last update: 0.0s\n",
      "2024-08-02 14:11:34,547 - tenpy.algorithms.algorithm - INFO - --> time=0.800, max(chi)=16, max(S)=0.33819, avg DeltaS=5.7163e-02, since last update: 0.0s\n",
      "2024-08-02 14:11:34,582 - tenpy.algorithms.algorithm - INFO - --> time=0.900, max(chi)=16, max(S)=0.39626, avg DeltaS=5.7154e-02, since last update: 0.0s\n",
      "2024-08-02 14:11:34,616 - tenpy.algorithms.algorithm - INFO - --> time=1.000, max(chi)=16, max(S)=0.45330, avg DeltaS=5.5956e-02, since last update: 0.0s\n",
      "2024-08-02 14:11:34,651 - tenpy.algorithms.algorithm - INFO - --> time=1.100, max(chi)=16, max(S)=0.50815, avg DeltaS=5.3609e-02, since last update: 0.0s\n",
      "2024-08-02 14:11:34,686 - tenpy.algorithms.algorithm - INFO - --> time=1.200, max(chi)=16, max(S)=0.55972, avg DeltaS=5.0165e-02, since last update: 0.0s\n",
      "2024-08-02 14:11:34,721 - tenpy.algorithms.algorithm - INFO - --> time=1.300, max(chi)=16, max(S)=0.60699, avg DeltaS=4.5703e-02, since last update: 0.0s\n",
      "2024-08-02 14:11:34,757 - tenpy.algorithms.algorithm - INFO - --> time=1.400, max(chi)=16, max(S)=0.64904, avg DeltaS=4.0328e-02, since last update: 0.0s\n",
      "2024-08-02 14:11:34,793 - tenpy.algorithms.algorithm - INFO - --> time=1.500, max(chi)=16, max(S)=0.68511, avg DeltaS=3.4175e-02, since last update: 0.0s\n",
      "2024-08-02 14:11:34,828 - tenpy.algorithms.algorithm - INFO - --> time=1.600, max(chi)=16, max(S)=0.71463, avg DeltaS=2.7407e-02, since last update: 0.0s\n",
      "2024-08-02 14:11:34,863 - tenpy.algorithms.algorithm - INFO - --> time=1.700, max(chi)=16, max(S)=0.73720, avg DeltaS=2.0208e-02, since last update: 0.0s\n",
      "2024-08-02 14:11:34,897 - tenpy.algorithms.algorithm - INFO - --> time=1.800, max(chi)=16, max(S)=0.75263, avg DeltaS=1.2779e-02, since last update: 0.0s\n",
      "2024-08-02 14:11:34,933 - tenpy.algorithms.algorithm - INFO - --> time=1.900, max(chi)=16, max(S)=0.76095, avg DeltaS=5.3291e-03, since last update: 0.0s\n",
      "2024-08-02 14:11:34,970 - tenpy.algorithms.algorithm - INFO - --> time=2.000, max(chi)=16, max(S)=0.76239, avg DeltaS=-1.9304e-03, since last update: 0.0s\n",
      "2024-08-02 14:11:35,004 - tenpy.algorithms.algorithm - INFO - --> time=2.100, max(chi)=16, max(S)=0.75738, avg DeltaS=-8.7935e-03, since last update: 0.0s\n",
      "2024-08-02 14:11:35,038 - tenpy.algorithms.algorithm - INFO - --> time=2.200, max(chi)=16, max(S)=0.74651, avg DeltaS=-1.5065e-02, since last update: 0.0s\n",
      "2024-08-02 14:11:35,072 - tenpy.algorithms.algorithm - INFO - --> time=2.300, max(chi)=16, max(S)=0.73052, avg DeltaS=-2.0562e-02, since last update: 0.0s\n",
      "2024-08-02 14:11:35,105 - tenpy.algorithms.algorithm - INFO - --> time=2.400, max(chi)=16, max(S)=0.71027, avg DeltaS=-2.5122e-02, since last update: 0.0s\n",
      "2024-08-02 14:11:35,141 - tenpy.algorithms.algorithm - INFO - --> time=2.500, max(chi)=16, max(S)=0.68671, avg DeltaS=-2.8598e-02, since last update: 0.0s\n",
      "2024-08-02 14:11:35,178 - tenpy.algorithms.algorithm - INFO - --> time=2.600, max(chi)=16, max(S)=0.66281, avg DeltaS=-3.0860e-02, since last update: 0.0s\n",
      "2024-08-02 14:11:35,212 - tenpy.algorithms.algorithm - INFO - --> time=2.700, max(chi)=16, max(S)=0.64002, avg DeltaS=-3.1800e-02, since last update: 0.0s\n",
      "2024-08-02 14:11:35,247 - tenpy.algorithms.algorithm - INFO - --> time=2.800, max(chi)=16, max(S)=0.61793, avg DeltaS=-3.1332e-02, since last update: 0.0s\n",
      "2024-08-02 14:11:35,281 - tenpy.algorithms.algorithm - INFO - --> time=2.900, max(chi)=16, max(S)=0.59756, avg DeltaS=-2.9403e-02, since last update: 0.0s\n",
      "2024-08-02 14:11:35,315 - tenpy.algorithms.algorithm - INFO - --> time=3.000, max(chi)=16, max(S)=0.57986, avg DeltaS=-2.6012e-02, since last update: 0.0s\n",
      "2024-08-02 14:11:35,351 - tenpy.algorithms.algorithm - INFO - --> time=3.100, max(chi)=16, max(S)=0.56568, avg DeltaS=-2.1243e-02, since last update: 0.0s\n",
      "2024-08-02 14:11:35,385 - tenpy.algorithms.algorithm - INFO - --> time=3.200, max(chi)=16, max(S)=0.55568, avg DeltaS=-1.5300e-02, since last update: 0.0s\n",
      "2024-08-02 14:11:35,420 - tenpy.algorithms.algorithm - INFO - --> time=3.300, max(chi)=16, max(S)=0.55039, avg DeltaS=-8.5227e-03, since last update: 0.0s\n",
      "2024-08-02 14:11:35,456 - tenpy.algorithms.algorithm - INFO - --> time=3.400, max(chi)=16, max(S)=0.55013, avg DeltaS=-1.3505e-03, since last update: 0.0s\n",
      "2024-08-02 14:11:35,490 - tenpy.algorithms.algorithm - INFO - --> time=3.500, max(chi)=16, max(S)=0.55502, avg DeltaS=5.7668e-03, since last update: 0.0s\n",
      "2024-08-02 14:11:35,524 - tenpy.algorithms.algorithm - INFO - --> time=3.600, max(chi)=16, max(S)=0.56498, avg DeltaS=1.2452e-02, since last update: 0.0s\n",
      "2024-08-02 14:11:35,556 - tenpy.algorithms.algorithm - INFO - --> time=3.700, max(chi)=16, max(S)=0.57974, avg DeltaS=1.8434e-02, since last update: 0.0s\n",
      "2024-08-02 14:11:35,589 - tenpy.algorithms.algorithm - INFO - --> time=3.800, max(chi)=16, max(S)=0.59887, avg DeltaS=2.3539e-02, since last update: 0.0s\n",
      "2024-08-02 14:11:35,623 - tenpy.algorithms.algorithm - INFO - --> time=3.900, max(chi)=16, max(S)=0.62180, avg DeltaS=2.7664e-02, since last update: 0.0s\n",
      "2024-08-02 14:11:35,656 - tenpy.algorithms.algorithm - INFO - --> time=4.000, max(chi)=16, max(S)=0.64781, avg DeltaS=3.0760e-02, since last update: 0.0s\n",
      "2024-08-02 14:11:35,692 - tenpy.algorithms.algorithm - INFO - --> time=4.100, max(chi)=16, max(S)=0.67614, avg DeltaS=3.2815e-02, since last update: 0.0s\n",
      "2024-08-02 14:11:35,725 - tenpy.algorithms.algorithm - INFO - --> time=4.200, max(chi)=16, max(S)=0.70593, avg DeltaS=3.3850e-02, since last update: 0.0s\n",
      "2024-08-02 14:11:35,759 - tenpy.algorithms.algorithm - INFO - --> time=4.300, max(chi)=16, max(S)=0.73631, avg DeltaS=3.3916e-02, since last update: 0.0s\n",
      "2024-08-02 14:11:35,792 - tenpy.algorithms.algorithm - INFO - --> time=4.400, max(chi)=16, max(S)=0.76639, avg DeltaS=3.3081e-02, since last update: 0.0s\n",
      "2024-08-02 14:11:35,830 - tenpy.algorithms.algorithm - INFO - --> time=4.500, max(chi)=16, max(S)=0.79530, avg DeltaS=3.1434e-02, since last update: 0.0s\n",
      "2024-08-02 14:11:35,864 - tenpy.algorithms.algorithm - INFO - --> time=4.600, max(chi)=16, max(S)=0.82223, avg DeltaS=2.9077e-02, since last update: 0.0s\n",
      "2024-08-02 14:11:35,896 - tenpy.algorithms.algorithm - INFO - --> time=4.700, max(chi)=16, max(S)=0.84644, avg DeltaS=2.6119e-02, since last update: 0.0s\n",
      "2024-08-02 14:11:35,931 - tenpy.algorithms.algorithm - INFO - --> time=4.800, max(chi)=16, max(S)=0.86733, avg DeltaS=2.2676e-02, since last update: 0.0s\n",
      "2024-08-02 14:11:35,967 - tenpy.algorithms.algorithm - INFO - --> time=4.900, max(chi)=16, max(S)=0.88439, avg DeltaS=1.8866e-02, since last update: 0.0s\n",
      "2024-08-02 14:11:36,003 - tenpy.algorithms.algorithm - INFO - --> time=5.000, max(chi)=16, max(S)=0.91861, avg DeltaS=1.4811e-02, since last update: 0.0s\n",
      "2024-08-02 14:11:36,041 - tenpy.algorithms.algorithm - INFO - --> time=5.100, max(chi)=16, max(S)=0.95175, avg DeltaS=1.0641e-02, since last update: 0.0s\n",
      "2024-08-02 14:11:36,074 - tenpy.algorithms.algorithm - INFO - --> time=5.200, max(chi)=16, max(S)=0.98093, avg DeltaS=6.4834e-03, since last update: 0.0s\n",
      "2024-08-02 14:11:36,108 - tenpy.algorithms.algorithm - INFO - --> time=5.300, max(chi)=16, max(S)=1.00580, avg DeltaS=2.4675e-03, since last update: 0.0s\n",
      "2024-08-02 14:11:36,140 - tenpy.algorithms.algorithm - INFO - --> time=5.400, max(chi)=16, max(S)=1.03049, avg DeltaS=-1.2846e-03, since last update: 0.0s\n",
      "2024-08-02 14:11:36,175 - tenpy.algorithms.algorithm - INFO - --> time=5.500, max(chi)=16, max(S)=1.05288, avg DeltaS=-4.6588e-03, since last update: 0.0s\n",
      "2024-08-02 14:11:36,209 - tenpy.algorithms.algorithm - INFO - --> time=5.600, max(chi)=16, max(S)=1.07152, avg DeltaS=-7.5522e-03, since last update: 0.0s\n",
      "2024-08-02 14:11:36,240 - tenpy.algorithms.algorithm - INFO - --> time=5.700, max(chi)=16, max(S)=1.08641, avg DeltaS=-9.8766e-03, since last update: 0.0s\n",
      "2024-08-02 14:11:36,271 - tenpy.algorithms.algorithm - INFO - --> time=5.800, max(chi)=16, max(S)=1.09765, avg DeltaS=-1.1562e-02, since last update: 0.0s\n",
      "2024-08-02 14:11:36,305 - tenpy.algorithms.algorithm - INFO - --> time=5.900, max(chi)=16, max(S)=1.10542, avg DeltaS=-1.2560e-02, since last update: 0.0s\n",
      "2024-08-02 14:11:36,337 - tenpy.algorithms.algorithm - INFO - --> time=6.000, max(chi)=16, max(S)=1.11000, avg DeltaS=-1.2853e-02, since last update: 0.0s\n",
      "2024-08-02 14:11:36,369 - tenpy.algorithms.algorithm - INFO - --> time=6.100, max(chi)=16, max(S)=1.11173, avg DeltaS=-1.2454e-02, since last update: 0.0s\n",
      "2024-08-02 14:11:36,402 - tenpy.algorithms.algorithm - INFO - --> time=6.200, max(chi)=16, max(S)=1.11100, avg DeltaS=-1.1415e-02, since last update: 0.0s\n",
      "2024-08-02 14:11:36,434 - tenpy.algorithms.algorithm - INFO - --> time=6.300, max(chi)=16, max(S)=1.10823, avg DeltaS=-9.8247e-03, since last update: 0.0s\n",
      "2024-08-02 14:11:36,467 - tenpy.algorithms.algorithm - INFO - --> time=6.400, max(chi)=16, max(S)=1.10383, avg DeltaS=-7.7981e-03, since last update: 0.0s\n",
      "2024-08-02 14:11:36,499 - tenpy.algorithms.algorithm - INFO - --> time=6.500, max(chi)=16, max(S)=1.09824, avg DeltaS=-5.4641e-03, since last update: 0.0s\n",
      "2024-08-02 14:11:36,531 - tenpy.algorithms.algorithm - INFO - --> time=6.600, max(chi)=16, max(S)=1.09187, avg DeltaS=-2.9467e-03, since last update: 0.0s\n",
      "2024-08-02 14:11:36,564 - tenpy.algorithms.algorithm - INFO - --> time=6.700, max(chi)=16, max(S)=1.08512, avg DeltaS=-3.5283e-04, since last update: 0.0s\n",
      "2024-08-02 14:11:36,600 - tenpy.algorithms.algorithm - INFO - --> time=6.800, max(chi)=16, max(S)=1.07836, avg DeltaS=2.2319e-03, since last update: 0.0s\n",
      "2024-08-02 14:11:36,634 - tenpy.algorithms.algorithm - INFO - --> time=6.900, max(chi)=16, max(S)=1.07195, avg DeltaS=4.7419e-03, since last update: 0.0s\n",
      "2024-08-02 14:11:36,668 - tenpy.algorithms.algorithm - INFO - --> time=7.000, max(chi)=16, max(S)=1.06621, avg DeltaS=7.1264e-03, since last update: 0.0s\n",
      "2024-08-02 14:11:36,701 - tenpy.algorithms.algorithm - INFO - --> time=7.100, max(chi)=16, max(S)=1.06147, avg DeltaS=9.3451e-03, since last update: 0.0s\n",
      "2024-08-02 14:11:36,734 - tenpy.algorithms.algorithm - INFO - --> time=7.200, max(chi)=16, max(S)=1.05803, avg DeltaS=1.1365e-02, since last update: 0.0s\n",
      "2024-08-02 14:11:36,766 - tenpy.algorithms.algorithm - INFO - --> time=7.300, max(chi)=16, max(S)=1.05617, avg DeltaS=1.3159e-02, since last update: 0.0s\n",
      "2024-08-02 14:11:36,798 - tenpy.algorithms.algorithm - INFO - --> time=7.400, max(chi)=16, max(S)=1.05618, avg DeltaS=1.4707e-02, since last update: 0.0s\n",
      "2024-08-02 14:11:36,831 - tenpy.algorithms.algorithm - INFO - --> time=7.500, max(chi)=16, max(S)=1.05831, avg DeltaS=1.5994e-02, since last update: 0.0s\n",
      "2024-08-02 14:11:36,864 - tenpy.algorithms.algorithm - INFO - --> time=7.600, max(chi)=16, max(S)=1.06279, avg DeltaS=1.7014e-02, since last update: 0.0s\n",
      "2024-08-02 14:11:36,896 - tenpy.algorithms.algorithm - INFO - --> time=7.700, max(chi)=16, max(S)=1.06985, avg DeltaS=1.7765e-02, since last update: 0.0s\n",
      "2024-08-02 14:11:36,931 - tenpy.algorithms.algorithm - INFO - --> time=7.800, max(chi)=16, max(S)=1.07962, avg DeltaS=1.8252e-02, since last update: 0.0s\n",
      "2024-08-02 14:11:36,963 - tenpy.algorithms.algorithm - INFO - --> time=7.900, max(chi)=16, max(S)=1.09221, avg DeltaS=1.8484e-02, since last update: 0.0s\n",
      "2024-08-02 14:11:36,997 - tenpy.algorithms.algorithm - INFO - --> time=8.000, max(chi)=16, max(S)=1.10764, avg DeltaS=1.8473e-02, since last update: 0.0s\n",
      "2024-08-02 14:11:37,032 - tenpy.algorithms.algorithm - INFO - --> time=8.100, max(chi)=16, max(S)=1.12581, avg DeltaS=1.8229e-02, since last update: 0.0s\n",
      "2024-08-02 14:11:37,065 - tenpy.algorithms.algorithm - INFO - --> time=8.200, max(chi)=16, max(S)=1.14657, avg DeltaS=1.7765e-02, since last update: 0.0s\n",
      "2024-08-02 14:11:37,100 - tenpy.algorithms.algorithm - INFO - --> time=8.300, max(chi)=16, max(S)=1.16968, avg DeltaS=1.7096e-02, since last update: 0.0s\n",
      "2024-08-02 14:11:37,140 - tenpy.algorithms.algorithm - INFO - --> time=8.400, max(chi)=16, max(S)=1.19481, avg DeltaS=1.6243e-02, since last update: 0.0s\n",
      "2024-08-02 14:11:37,178 - tenpy.algorithms.algorithm - INFO - --> time=8.500, max(chi)=16, max(S)=1.22159, avg DeltaS=1.5233e-02, since last update: 0.0s\n",
      "2024-08-02 14:11:37,216 - tenpy.algorithms.algorithm - INFO - --> time=8.600, max(chi)=16, max(S)=1.24957, avg DeltaS=1.4099e-02, since last update: 0.0s\n",
      "2024-08-02 14:11:37,251 - tenpy.algorithms.algorithm - INFO - --> time=8.700, max(chi)=16, max(S)=1.27823, avg DeltaS=1.2874e-02, since last update: 0.0s\n",
      "2024-08-02 14:11:37,286 - tenpy.algorithms.algorithm - INFO - --> time=8.800, max(chi)=16, max(S)=1.30700, avg DeltaS=1.1598e-02, since last update: 0.0s\n",
      "2024-08-02 14:11:37,318 - tenpy.algorithms.algorithm - INFO - --> time=8.900, max(chi)=16, max(S)=1.33534, avg DeltaS=1.0313e-02, since last update: 0.0s\n",
      "2024-08-02 14:11:37,353 - tenpy.algorithms.algorithm - INFO - --> time=9.000, max(chi)=16, max(S)=1.36270, avg DeltaS=9.0639e-03, since last update: 0.0s\n",
      "2024-08-02 14:11:37,387 - tenpy.algorithms.algorithm - INFO - --> time=9.100, max(chi)=16, max(S)=1.38863, avg DeltaS=7.8899e-03, since last update: 0.0s\n",
      "2024-08-02 14:11:37,420 - tenpy.algorithms.algorithm - INFO - --> time=9.200, max(chi)=16, max(S)=1.41272, avg DeltaS=6.8260e-03, since last update: 0.0s\n",
      "2024-08-02 14:11:37,454 - tenpy.algorithms.algorithm - INFO - --> time=9.300, max(chi)=16, max(S)=1.43466, avg DeltaS=5.8991e-03, since last update: 0.0s\n",
      "2024-08-02 14:11:37,487 - tenpy.algorithms.algorithm - INFO - --> time=9.400, max(chi)=16, max(S)=1.45421, avg DeltaS=5.1263e-03, since last update: 0.0s\n",
      "2024-08-02 14:11:37,520 - tenpy.algorithms.algorithm - INFO - --> time=9.500, max(chi)=16, max(S)=1.47124, avg DeltaS=4.5136e-03, since last update: 0.0s\n",
      "2024-08-02 14:11:37,555 - tenpy.algorithms.algorithm - INFO - --> time=9.600, max(chi)=16, max(S)=1.48569, avg DeltaS=4.0556e-03, since last update: 0.0s\n",
      "2024-08-02 14:11:37,592 - tenpy.algorithms.algorithm - INFO - --> time=9.700, max(chi)=16, max(S)=1.49755, avg DeltaS=3.7362e-03, since last update: 0.0s\n",
      "2024-08-02 14:11:37,625 - tenpy.algorithms.algorithm - INFO - --> time=9.800, max(chi)=16, max(S)=1.50692, avg DeltaS=3.5306e-03, since last update: 0.0s\n",
      "2024-08-02 14:11:37,659 - tenpy.algorithms.algorithm - INFO - --> time=9.900, max(chi)=16, max(S)=1.51390, avg DeltaS=3.4081e-03, since last update: 0.0s\n",
      "2024-08-02 14:11:37,691 - tenpy.algorithms.algorithm - INFO - --> time=10.000, max(chi)=16, max(S)=1.51867, avg DeltaS=3.3350e-03, since last update: 0.0s\n",
      "2024-08-02 14:11:37,725 - tenpy.algorithms.algorithm - INFO - --> time=10.100, max(chi)=16, max(S)=1.52142, avg DeltaS=3.2780e-03, since last update: 0.0s\n",
      "2024-08-02 14:11:37,756 - tenpy.algorithms.algorithm - INFO - --> time=10.200, max(chi)=16, max(S)=1.52237, avg DeltaS=3.2072e-03, since last update: 0.0s\n",
      "2024-08-02 14:11:37,790 - tenpy.algorithms.algorithm - INFO - --> time=10.300, max(chi)=16, max(S)=1.52176, avg DeltaS=3.0979e-03, since last update: 0.0s\n",
      "2024-08-02 14:11:37,825 - tenpy.algorithms.algorithm - INFO - --> time=10.400, max(chi)=16, max(S)=1.51986, avg DeltaS=2.9324e-03, since last update: 0.0s\n",
      "2024-08-02 14:11:37,858 - tenpy.algorithms.algorithm - INFO - --> time=10.500, max(chi)=16, max(S)=1.51693, avg DeltaS=2.7004e-03, since last update: 0.0s\n",
      "2024-08-02 14:11:37,891 - tenpy.algorithms.algorithm - INFO - --> time=10.600, max(chi)=16, max(S)=1.51326, avg DeltaS=2.3989e-03, since last update: 0.0s\n",
      "2024-08-02 14:11:37,925 - tenpy.algorithms.algorithm - INFO - --> time=10.700, max(chi)=16, max(S)=1.50916, avg DeltaS=2.0321e-03, since last update: 0.0s\n",
      "2024-08-02 14:11:37,960 - tenpy.algorithms.algorithm - INFO - --> time=10.800, max(chi)=16, max(S)=1.50493, avg DeltaS=1.6100e-03, since last update: 0.0s\n",
      "2024-08-02 14:11:37,994 - tenpy.algorithms.algorithm - INFO - --> time=10.900, max(chi)=16, max(S)=1.50088, avg DeltaS=1.1473e-03, since last update: 0.0s\n",
      "2024-08-02 14:11:38,029 - tenpy.algorithms.algorithm - INFO - --> time=11.000, max(chi)=16, max(S)=1.49732, avg DeltaS=6.6273e-04, since last update: 0.0s\n",
      "2024-08-02 14:11:38,063 - tenpy.algorithms.algorithm - INFO - --> time=11.100, max(chi)=16, max(S)=1.49455, avg DeltaS=1.7720e-04, since last update: 0.0s\n",
      "2024-08-02 14:11:38,101 - tenpy.algorithms.algorithm - INFO - --> time=11.200, max(chi)=16, max(S)=1.49285, avg DeltaS=-2.8736e-04, since last update: 0.0s\n",
      "2024-08-02 14:11:38,138 - tenpy.algorithms.algorithm - INFO - --> time=11.300, max(chi)=16, max(S)=1.49250, avg DeltaS=-7.0994e-04, since last update: 0.0s\n",
      "2024-08-02 14:11:38,172 - tenpy.algorithms.algorithm - INFO - --> time=11.400, max(chi)=16, max(S)=1.49368, avg DeltaS=-1.0726e-03, since last update: 0.0s\n",
      "2024-08-02 14:11:38,206 - tenpy.algorithms.algorithm - INFO - --> time=11.500, max(chi)=16, max(S)=1.49657, avg DeltaS=-1.3624e-03, since last update: 0.0s\n",
      "2024-08-02 14:11:38,240 - tenpy.algorithms.algorithm - INFO - --> time=11.600, max(chi)=16, max(S)=1.50122, avg DeltaS=-1.5719e-03, since last update: 0.0s\n",
      "2024-08-02 14:11:38,273 - tenpy.algorithms.algorithm - INFO - --> time=11.700, max(chi)=16, max(S)=1.50764, avg DeltaS=-1.6978e-03, since last update: 0.0s\n",
      "2024-08-02 14:11:38,307 - tenpy.algorithms.algorithm - INFO - --> time=11.800, max(chi)=16, max(S)=1.51572, avg DeltaS=-1.7377e-03, since last update: 0.0s\n",
      "2024-08-02 14:11:38,341 - tenpy.algorithms.algorithm - INFO - --> time=11.900, max(chi)=16, max(S)=1.52527, avg DeltaS=-1.6871e-03, since last update: 0.0s\n",
      "2024-08-02 14:11:38,375 - tenpy.algorithms.algorithm - INFO - --> time=12.000, max(chi)=16, max(S)=1.53601, avg DeltaS=-1.5384e-03, since last update: 0.0s\n",
      "2024-08-02 14:11:38,408 - tenpy.algorithms.algorithm - INFO - --> time=12.100, max(chi)=16, max(S)=1.54764, avg DeltaS=-1.2816e-03, since last update: 0.0s\n",
      "2024-08-02 14:11:38,443 - tenpy.algorithms.algorithm - INFO - --> time=12.200, max(chi)=16, max(S)=1.55981, avg DeltaS=-9.0739e-04, since last update: 0.0s\n",
      "2024-08-02 14:11:38,476 - tenpy.algorithms.algorithm - INFO - --> time=12.300, max(chi)=16, max(S)=1.57216, avg DeltaS=-4.1024e-04, since last update: 0.0s\n",
      "2024-08-02 14:11:38,510 - tenpy.algorithms.algorithm - INFO - --> time=12.400, max(chi)=16, max(S)=1.58438, avg DeltaS=2.0810e-04, since last update: 0.0s\n",
      "2024-08-02 14:11:38,544 - tenpy.algorithms.algorithm - INFO - --> time=12.500, max(chi)=16, max(S)=1.59615, avg DeltaS=9.3555e-04, since last update: 0.0s\n",
      "2024-08-02 14:11:38,575 - tenpy.algorithms.algorithm - INFO - --> time=12.600, max(chi)=16, max(S)=1.60721, avg DeltaS=1.7478e-03, since last update: 0.0s\n",
      "2024-08-02 14:11:38,608 - tenpy.algorithms.algorithm - INFO - --> time=12.700, max(chi)=16, max(S)=1.61733, avg DeltaS=2.6083e-03, since last update: 0.0s\n",
      "2024-08-02 14:11:38,641 - tenpy.algorithms.algorithm - INFO - --> time=12.800, max(chi)=16, max(S)=1.62631, avg DeltaS=3.4695e-03, since last update: 0.0s\n",
      "2024-08-02 14:11:38,675 - tenpy.algorithms.algorithm - INFO - --> time=12.900, max(chi)=16, max(S)=1.63400, avg DeltaS=4.2769e-03, since last update: 0.0s\n",
      "2024-08-02 14:11:38,708 - tenpy.algorithms.algorithm - INFO - --> time=13.000, max(chi)=16, max(S)=1.64026, avg DeltaS=4.9737e-03, since last update: 0.0s\n",
      "2024-08-02 14:11:38,741 - tenpy.algorithms.algorithm - INFO - --> time=13.100, max(chi)=16, max(S)=1.64497, avg DeltaS=5.5068e-03, since last update: 0.0s\n",
      "2024-08-02 14:11:38,772 - tenpy.algorithms.algorithm - INFO - --> time=13.200, max(chi)=16, max(S)=1.64806, avg DeltaS=5.8324e-03, since last update: 0.0s\n",
      "2024-08-02 14:11:38,805 - tenpy.algorithms.algorithm - INFO - --> time=13.300, max(chi)=16, max(S)=1.64947, avg DeltaS=5.9200e-03, since last update: 0.0s\n",
      "2024-08-02 14:11:38,837 - tenpy.algorithms.algorithm - INFO - --> time=13.400, max(chi)=16, max(S)=1.64918, avg DeltaS=5.7554e-03, since last update: 0.0s\n",
      "2024-08-02 14:11:38,869 - tenpy.algorithms.algorithm - INFO - --> time=13.500, max(chi)=16, max(S)=1.64718, avg DeltaS=5.3418e-03, since last update: 0.0s\n",
      "2024-08-02 14:11:38,901 - tenpy.algorithms.algorithm - INFO - --> time=13.600, max(chi)=16, max(S)=1.64352, avg DeltaS=4.6984e-03, since last update: 0.0s\n",
      "2024-08-02 14:11:38,934 - tenpy.algorithms.algorithm - INFO - --> time=13.700, max(chi)=16, max(S)=1.63829, avg DeltaS=3.8585e-03, since last update: 0.0s\n",
      "2024-08-02 14:11:38,966 - tenpy.algorithms.algorithm - INFO - --> time=13.800, max(chi)=16, max(S)=1.63162, avg DeltaS=2.8660e-03, since last update: 0.0s\n",
      "2024-08-02 14:11:39,000 - tenpy.algorithms.algorithm - INFO - --> time=13.900, max(chi)=16, max(S)=1.62367, avg DeltaS=1.7701e-03, since last update: 0.0s\n",
      "2024-08-02 14:11:39,032 - tenpy.algorithms.algorithm - INFO - --> time=14.000, max(chi)=16, max(S)=1.61464, avg DeltaS=6.2506e-04, since last update: 0.0s\n",
      "2024-08-02 14:11:39,065 - tenpy.algorithms.algorithm - INFO - --> time=14.100, max(chi)=16, max(S)=1.60480, avg DeltaS=-5.1355e-04, since last update: 0.0s\n",
      "2024-08-02 14:11:39,097 - tenpy.algorithms.algorithm - INFO - --> time=14.200, max(chi)=16, max(S)=1.59446, avg DeltaS=-1.5935e-03, since last update: 0.0s\n",
      "2024-08-02 14:11:39,129 - tenpy.algorithms.algorithm - INFO - --> time=14.300, max(chi)=16, max(S)=1.58396, avg DeltaS=-2.5683e-03, since last update: 0.0s\n",
      "2024-08-02 14:11:39,161 - tenpy.algorithms.algorithm - INFO - --> time=14.400, max(chi)=16, max(S)=1.57366, avg DeltaS=-3.3980e-03, since last update: 0.0s\n",
      "2024-08-02 14:11:39,194 - tenpy.algorithms.algorithm - INFO - --> time=14.500, max(chi)=16, max(S)=1.56392, avg DeltaS=-4.0498e-03, since last update: 0.0s\n",
      "2024-08-02 14:11:39,226 - tenpy.algorithms.algorithm - INFO - --> time=14.600, max(chi)=16, max(S)=1.55512, avg DeltaS=-4.4984e-03, since last update: 0.0s\n",
      "2024-08-02 14:11:39,258 - tenpy.algorithms.algorithm - INFO - --> time=14.700, max(chi)=16, max(S)=1.54758, avg DeltaS=-4.7253e-03, since last update: 0.0s\n",
      "2024-08-02 14:11:39,292 - tenpy.algorithms.algorithm - INFO - --> time=14.800, max(chi)=16, max(S)=1.54161, avg DeltaS=-4.7192e-03, since last update: 0.0s\n",
      "2024-08-02 14:11:39,323 - tenpy.algorithms.algorithm - INFO - --> time=14.900, max(chi)=16, max(S)=1.53747, avg DeltaS=-4.4767e-03, since last update: 0.0s\n",
      "2024-08-02 14:11:39,356 - tenpy.algorithms.algorithm - INFO - --> time=15.000, max(chi)=16, max(S)=1.53534, avg DeltaS=-4.0030e-03, since last update: 0.0s\n",
      "2024-08-02 14:11:39,388 - tenpy.algorithms.algorithm - INFO - --> time=15.100, max(chi)=16, max(S)=1.53533, avg DeltaS=-3.3132e-03, since last update: 0.0s\n",
      "2024-08-02 14:11:39,421 - tenpy.algorithms.algorithm - INFO - --> time=15.200, max(chi)=16, max(S)=1.53746, avg DeltaS=-2.4316e-03, since last update: 0.0s\n",
      "2024-08-02 14:11:39,454 - tenpy.algorithms.algorithm - INFO - --> time=15.300, max(chi)=16, max(S)=1.54164, avg DeltaS=-1.3895e-03, since last update: 0.0s\n",
      "2024-08-02 14:11:39,488 - tenpy.algorithms.algorithm - INFO - --> time=15.400, max(chi)=16, max(S)=1.54769, avg DeltaS=-2.2378e-04, since last update: 0.0s\n",
      "2024-08-02 14:11:39,524 - tenpy.algorithms.algorithm - INFO - --> time=15.500, max(chi)=16, max(S)=1.55541, avg DeltaS=1.0242e-03, since last update: 0.0s\n",
      "2024-08-02 14:11:39,557 - tenpy.algorithms.algorithm - INFO - --> time=15.600, max(chi)=16, max(S)=1.56453, avg DeltaS=2.3074e-03, since last update: 0.0s\n",
      "2024-08-02 14:11:39,590 - tenpy.algorithms.algorithm - INFO - --> time=15.700, max(chi)=16, max(S)=1.57475, avg DeltaS=3.5736e-03, since last update: 0.0s\n",
      "2024-08-02 14:11:39,623 - tenpy.algorithms.algorithm - INFO - --> time=15.800, max(chi)=16, max(S)=1.58577, avg DeltaS=4.7657e-03, since last update: 0.0s\n",
      "2024-08-02 14:11:39,655 - tenpy.algorithms.algorithm - INFO - --> time=15.900, max(chi)=16, max(S)=1.59726, avg DeltaS=5.8236e-03, since last update: 0.0s\n",
      "2024-08-02 14:11:39,688 - tenpy.algorithms.algorithm - INFO - --> time=16.000, max(chi)=16, max(S)=1.60885, avg DeltaS=6.6878e-03, since last update: 0.0s\n",
      "2024-08-02 14:11:39,721 - tenpy.algorithms.algorithm - INFO - --> time=16.100, max(chi)=16, max(S)=1.62019, avg DeltaS=7.3030e-03, since last update: 0.0s\n",
      "2024-08-02 14:11:39,836 - tenpy.algorithms.algorithm - INFO - --> time=16.200, max(chi)=16, max(S)=1.63089, avg DeltaS=7.6224e-03, since last update: 0.1s\n",
      "2024-08-02 14:11:39,872 - tenpy.algorithms.algorithm - INFO - --> time=16.300, max(chi)=16, max(S)=1.64059, avg DeltaS=7.6111e-03, since last update: 0.0s\n",
      "2024-08-02 14:11:39,907 - tenpy.algorithms.algorithm - INFO - --> time=16.400, max(chi)=16, max(S)=1.64892, avg DeltaS=7.2487e-03, since last update: 0.0s\n",
      "2024-08-02 14:11:39,943 - tenpy.algorithms.algorithm - INFO - --> time=16.500, max(chi)=16, max(S)=1.65553, avg DeltaS=6.5307e-03, since last update: 0.0s\n",
      "2024-08-02 14:11:39,978 - tenpy.algorithms.algorithm - INFO - --> time=16.600, max(chi)=16, max(S)=1.66014, avg DeltaS=5.4689e-03, since last update: 0.0s\n",
      "2024-08-02 14:11:40,013 - tenpy.algorithms.algorithm - INFO - --> time=16.700, max(chi)=16, max(S)=1.66248, avg DeltaS=4.0904e-03, since last update: 0.0s\n",
      "2024-08-02 14:11:40,046 - tenpy.algorithms.algorithm - INFO - --> time=16.800, max(chi)=16, max(S)=1.66237, avg DeltaS=2.4359e-03, since last update: 0.0s\n",
      "2024-08-02 14:11:40,079 - tenpy.algorithms.algorithm - INFO - --> time=16.900, max(chi)=16, max(S)=1.65967, avg DeltaS=5.5744e-04, since last update: 0.0s\n",
      "2024-08-02 14:11:40,111 - tenpy.algorithms.algorithm - INFO - --> time=17.000, max(chi)=16, max(S)=1.65434, avg DeltaS=-1.4848e-03, since last update: 0.0s\n",
      "2024-08-02 14:11:40,144 - tenpy.algorithms.algorithm - INFO - --> time=17.100, max(chi)=16, max(S)=1.64640, avg DeltaS=-3.6250e-03, since last update: 0.0s\n",
      "2024-08-02 14:11:40,177 - tenpy.algorithms.algorithm - INFO - --> time=17.200, max(chi)=16, max(S)=1.63596, avg DeltaS=-5.7946e-03, since last update: 0.0s\n",
      "2024-08-02 14:11:40,209 - tenpy.algorithms.algorithm - INFO - --> time=17.300, max(chi)=16, max(S)=1.62320, avg DeltaS=-7.9249e-03, since last update: 0.0s\n",
      "2024-08-02 14:11:40,241 - tenpy.algorithms.algorithm - INFO - --> time=17.400, max(chi)=16, max(S)=1.60835, avg DeltaS=-9.9490e-03, since last update: 0.0s\n",
      "2024-08-02 14:11:40,274 - tenpy.algorithms.algorithm - INFO - --> time=17.500, max(chi)=16, max(S)=1.59173, avg DeltaS=-1.1804e-02, since last update: 0.0s\n",
      "2024-08-02 14:11:40,306 - tenpy.algorithms.algorithm - INFO - --> time=17.600, max(chi)=16, max(S)=1.57369, avg DeltaS=-1.3432e-02, since last update: 0.0s\n",
      "2024-08-02 14:11:40,338 - tenpy.algorithms.algorithm - INFO - --> time=17.700, max(chi)=16, max(S)=1.55463, avg DeltaS=-1.4779e-02, since last update: 0.0s\n",
      "2024-08-02 14:11:40,371 - tenpy.algorithms.algorithm - INFO - --> time=17.800, max(chi)=16, max(S)=1.53502, avg DeltaS=-1.5800e-02, since last update: 0.0s\n",
      "2024-08-02 14:11:40,404 - tenpy.algorithms.algorithm - INFO - --> time=17.900, max(chi)=16, max(S)=1.51521, avg DeltaS=-1.6472e-02, since last update: 0.0s\n",
      "2024-08-02 14:11:40,437 - tenpy.algorithms.algorithm - INFO - --> time=18.000, max(chi)=16, max(S)=1.49563, avg DeltaS=-1.6764e-02, since last update: 0.0s\n",
      "2024-08-02 14:11:40,468 - tenpy.algorithms.algorithm - INFO - --> time=18.100, max(chi)=16, max(S)=1.47667, avg DeltaS=-1.6657e-02, since last update: 0.0s\n",
      "2024-08-02 14:11:40,503 - tenpy.algorithms.algorithm - INFO - --> time=18.200, max(chi)=16, max(S)=1.45873, avg DeltaS=-1.6143e-02, since last update: 0.0s\n",
      "2024-08-02 14:11:40,536 - tenpy.algorithms.algorithm - INFO - --> time=18.300, max(chi)=16, max(S)=1.44221, avg DeltaS=-1.5225e-02, since last update: 0.0s\n",
      "2024-08-02 14:11:40,568 - tenpy.algorithms.algorithm - INFO - --> time=18.400, max(chi)=16, max(S)=1.42747, avg DeltaS=-1.3916e-02, since last update: 0.0s\n",
      "2024-08-02 14:11:40,603 - tenpy.algorithms.algorithm - INFO - --> time=18.500, max(chi)=16, max(S)=1.41485, avg DeltaS=-1.2242e-02, since last update: 0.0s\n",
      "2024-08-02 14:11:40,640 - tenpy.algorithms.algorithm - INFO - --> time=18.600, max(chi)=16, max(S)=1.40464, avg DeltaS=-1.0243e-02, since last update: 0.0s\n",
      "2024-08-02 14:11:40,674 - tenpy.algorithms.algorithm - INFO - --> time=18.700, max(chi)=16, max(S)=1.39709, avg DeltaS=-7.9697e-03, since last update: 0.0s\n",
      "2024-08-02 14:11:40,707 - tenpy.algorithms.algorithm - INFO - --> time=18.800, max(chi)=16, max(S)=1.39240, avg DeltaS=-5.4854e-03, since last update: 0.0s\n",
      "2024-08-02 14:11:40,741 - tenpy.algorithms.algorithm - INFO - --> time=18.900, max(chi)=16, max(S)=1.39068, avg DeltaS=-2.8614e-03, since last update: 0.0s\n",
      "2024-08-02 14:11:40,776 - tenpy.algorithms.algorithm - INFO - --> time=19.000, max(chi)=16, max(S)=1.39196, avg DeltaS=-1.7425e-04, since last update: 0.0s\n",
      "2024-08-02 14:11:40,810 - tenpy.algorithms.algorithm - INFO - --> time=19.100, max(chi)=16, max(S)=1.39619, avg DeltaS=2.4983e-03, since last update: 0.0s\n",
      "2024-08-02 14:11:40,844 - tenpy.algorithms.algorithm - INFO - --> time=19.200, max(chi)=16, max(S)=1.40323, avg DeltaS=5.0804e-03, since last update: 0.0s\n",
      "2024-08-02 14:11:40,877 - tenpy.algorithms.algorithm - INFO - --> time=19.300, max(chi)=16, max(S)=1.41283, avg DeltaS=7.4970e-03, since last update: 0.0s\n",
      "2024-08-02 14:11:40,909 - tenpy.algorithms.algorithm - INFO - --> time=19.400, max(chi)=16, max(S)=1.42466, avg DeltaS=9.6805e-03, since last update: 0.0s\n",
      "2024-08-02 14:11:40,943 - tenpy.algorithms.algorithm - INFO - --> time=19.500, max(chi)=16, max(S)=1.43833, avg DeltaS=1.1572e-02, since last update: 0.0s\n",
      "2024-08-02 14:11:40,977 - tenpy.algorithms.algorithm - INFO - --> time=19.600, max(chi)=16, max(S)=1.45339, avg DeltaS=1.3116e-02, since last update: 0.0s\n",
      "2024-08-02 14:11:41,010 - tenpy.algorithms.algorithm - INFO - --> time=19.700, max(chi)=16, max(S)=1.46935, avg DeltaS=1.4264e-02, since last update: 0.0s\n",
      "2024-08-02 14:11:41,042 - tenpy.algorithms.algorithm - INFO - --> time=19.800, max(chi)=16, max(S)=1.48567, avg DeltaS=1.4974e-02, since last update: 0.0s\n",
      "2024-08-02 14:11:41,076 - tenpy.algorithms.algorithm - INFO - --> time=19.900, max(chi)=16, max(S)=1.50180, avg DeltaS=1.5216e-02, since last update: 0.0s\n",
      "2024-08-02 14:11:41,111 - tenpy.algorithms.algorithm - INFO - --> time=20.000, max(chi)=16, max(S)=1.51719, avg DeltaS=1.4971e-02, since last update: 0.0s\n"
     ]
    }
   ],
   "source": [
    "def measurement(eng, data):\n",
    "    keys = ['t', 'Sx', 'Sy', 'Sz', 'trunc_err','entropy']\n",
    "    if data is None:\n",
    "        data = dict([(k, []) for k in keys])\n",
    "    data['t'].append(eng.evolved_time)\n",
    "    data['Sx'].append(eng.psi.expectation_value('Sigmax'))\n",
    "    data['Sy'].append(eng.psi.expectation_value('Sigmay'))\n",
    "    data['Sz'].append(eng.psi.expectation_value('Sigmaz'))\n",
    "    data['entropy'].append(eng.psi.entanglement_entropy())\n",
    "    data['trunc_err'].append(eng.trunc_err.eps)\n",
    "    return data\n",
    "\n",
    "data = measurement(eng, None)\n",
    "while eng.evolved_time < 20.:\n",
    "    eng.run()\n",
    "    measurement(eng, data)"
   ]
  },
  {
   "cell_type": "code",
   "execution_count": 6,
   "metadata": {},
   "outputs": [],
   "source": [
    "mx = []\n",
    "my = []\n",
    "mz = []\n",
    "for i in range(len(data['Sx'])):\n",
    "    mx.append(np.sum(data['Sx'][i]))\n",
    "    my.append(np.sum(data['Sy'][i]))\n",
    "    mz.append(np.sum(data['Sz'][i]))"
   ]
  },
  {
   "cell_type": "code",
   "execution_count": 7,
   "metadata": {},
   "outputs": [],
   "source": [
    "graph=get_line_graph(L)\n",
    "heisenberg_hamiltonian = get_heisenberg_hamiltonian(graph,Jxy=Jxy,Jz=Jz,hz=hz)\n",
    "eig_vals,eig_matrix = get_eigen_decomposition(heisenberg_hamiltonian.to_matrix())\n",
    "initial_state = Statevector.from_label('+'* L)\n",
    "\n",
    "mag_z = get_mag_z_op(graph)\n",
    "mag_x = get_mag_x_op(graph)\n",
    "mag_y = get_mag_y_op(graph)\n",
    "\n",
    "mags_z = []\n",
    "mags_x = []\n",
    "mags_y = []\n",
    "times = np.linspace(0,20,100)\n",
    "for t in times:\n",
    "    # U = Operator(expm(-1.j*t*heisenberg_hamiltonian.to_matrix()))\n",
    "    U = Operator(eig_matrix @ np.diag(np.exp(-1.j*t*eig_vals)) @ eig_matrix.T)\n",
    "    evolved_state = initial_state.evolve(U)\n",
    "    \n",
    "    mags_x.append(evolved_state.expectation_value(mag_x))\n",
    "    mags_y.append(evolved_state.expectation_value(mag_y))\n",
    "    mags_z.append(evolved_state.expectation_value(mag_z))"
   ]
  },
  {
   "cell_type": "code",
   "execution_count": 8,
   "metadata": {},
   "outputs": [],
   "source": [
    "def get_exact_mags(L = 8, Jxy = -0.1,Jz = -0.5,hz = 0.7):\n",
    "    graph=get_line_graph(L)\n",
    "    heisenberg_hamiltonian = get_heisenberg_hamiltonian(graph,Jxy=Jxy,Jz=Jz,hz=hz)\n",
    "    eig_vals,eig_matrix = get_eigen_decomposition(heisenberg_hamiltonian.to_matrix())\n",
    "    initial_state = Statevector.from_label('+'* L)\n",
    "\n",
    "    mag_z = get_mag_z_op(graph)\n",
    "    mag_x = get_mag_x_op(graph)\n",
    "    mag_y = get_mag_y_op(graph)\n",
    "\n",
    "    mags_z = []\n",
    "    mags_x = []\n",
    "    mags_y = []\n",
    "    times = np.linspace(0,20,100)\n",
    "    for t in times:\n",
    "        # U = Operator(expm(-1.j*t*heisenberg_hamiltonian.to_matrix()))\n",
    "        U = Operator(eig_matrix @ np.diag(np.exp(-1.j*t*eig_vals)) @ eig_matrix.T)\n",
    "        evolved_state = initial_state.evolve(U)\n",
    "        \n",
    "        mags_x.append(evolved_state.expectation_value(mag_x))\n",
    "        mags_y.append(evolved_state.expectation_value(mag_y))\n",
    "        mags_z.append(evolved_state.expectation_value(mag_z))\n",
    "    return mags_x,mags_y,mags_z\n",
    "\n",
    "mags_x,mags_y,mags_z = get_exact_mags()"
   ]
  },
  {
   "cell_type": "code",
   "execution_count": 101,
   "metadata": {},
   "outputs": [
    {
     "name": "stdout",
     "output_type": "stream",
     "text": [
      "<npc.Array shape=(2, 2, 2, 2) labels=['p0', 'p0*', 'p1', 'p1*']\n",
      "charge=ChargeInfo([], [])\n",
      " +1 | -1 | +1 | -1 \n",
      "0 []|0 []|0 []|0 []\n",
      "2   |2   |2   |2   \n",
      "[[[[ 0.55+0.j  0.  +0.j]\n",
      "   [ 0.  +0.j  0.85+0.j]]\n",
      "\n",
      "  [[ 0.  +0.j  0.  +0.j]\n",
      "   [-0.2 +0.j  0.  +0.j]]]\n",
      "\n",
      "\n",
      " [[[ 0.  +0.j -0.2 +0.j]\n",
      "   [ 0.  +0.j  0.  +0.j]]\n",
      "\n",
      "  [[ 0.15+0.j  0.  +0.j]\n",
      "   [ 0.  +0.j -1.55+0.j]]]]\n",
      ">\n"
     ]
    },
    {
     "data": {
      "text/plain": [
       "array([[[[ 0.55+0.j,  0.  +0.j],\n",
       "         [ 0.  +0.j,  0.85+0.j]],\n",
       "\n",
       "        [[ 0.  +0.j,  0.  +0.j],\n",
       "         [-0.2 +0.j,  0.  +0.j]]],\n",
       "\n",
       "\n",
       "       [[[ 0.  +0.j, -0.2 +0.j],\n",
       "         [ 0.  +0.j,  0.  +0.j]],\n",
       "\n",
       "        [[ 0.15+0.j,  0.  +0.j],\n",
       "         [ 0.  +0.j, -1.55+0.j]]]])"
      ]
     },
     "execution_count": 101,
     "metadata": {},
     "output_type": "execute_result"
    }
   ],
   "source": [
    "h = model.H_bond[1]\n",
    "print(h)\n",
    "h.to_ndarray()"
   ]
  },
  {
   "cell_type": "code",
   "execution_count": 102,
   "metadata": {},
   "outputs": [
    {
     "data": {
      "text/plain": [
       "<npc.Array shape=(4, 4) labels=['(p0.p1)', '(p0*.p1*)']>"
      ]
     },
     "execution_count": 102,
     "metadata": {},
     "output_type": "execute_result"
    }
   ],
   "source": [
    "H2 = h.combine_legs([('p0', 'p1'), ('p0*', 'p1*')], qconj=[+1, -1])\n",
    "H2"
   ]
  },
  {
   "cell_type": "code",
   "execution_count": 104,
   "metadata": {},
   "outputs": [
    {
     "name": "stdout",
     "output_type": "stream",
     "text": [
      "<npc.Array shape=(4, 4) labels=['(p0.p1)', '(p0*.p1*)']\n",
      "charge=ChargeInfo([], [])\n",
      "LegPipe(shape (2, 2)->4,    |LegPipe(shape (2, 2)->4,    \n",
      "    qconj (+1, +1)->+1;     |    qconj (-1, -1)->-1;     \n",
      "    block numbers (1, 1)->1)|    block numbers (1, 1)->1)\n",
      " +1  |  +1                  | -1  |  -1                  \n",
      "0 [] | 0 []                 |0 [] | 0 []                 \n",
      "2    | 2                    |2    | 2                    \n",
      ")                           |)                           \n",
      "[[ 0.3025+0.j  0.    +0.j  0.    +0.j  0.    +0.j]\n",
      " [ 0.    +0.j  0.7625+0.j -0.2   +0.j  0.    +0.j]\n",
      " [ 0.    +0.j -0.2   +0.j  0.0625+0.j  0.    +0.j]\n",
      " [ 0.    +0.j  0.    +0.j  0.    +0.j  2.4025+0.j]]\n",
      ">\n"
     ]
    }
   ],
   "source": [
    "from tenpy.linalg import np_conserved as npc\n",
    "\n",
    "print(npc.tensordot(H2,H2,axes=(1,0)))"
   ]
  },
  {
   "cell_type": "code",
   "execution_count": 88,
   "metadata": {},
   "outputs": [
    {
     "name": "stdout",
     "output_type": "stream",
     "text": [
      "<npc.Array shape=(4, 4) labels=['(p0.p1)', '(p0*.p1*)']\n",
      "charge=ChargeInfo([], [])\n",
      "LegPipe(shape (2, 2)->4,    |LegPipe(shape (2, 2)->4,    \n",
      "    qconj (+1, +1)->+1;     |    qconj (-1, -1)->-1;     \n",
      "    block numbers (1, 1)->1)|    block numbers (1, 1)->1)\n",
      " +1  |  +1                  | -1  |  -1                  \n",
      "0 [] | 0 []                 |0 [] | 0 []                 \n",
      "2    | 2                    |2    | 2                    \n",
      ")                           |)                           \n",
      "[[ 0.55+0.j  0.  +0.j  0.  +0.j  0.  +0.j]\n",
      " [ 0.  +0.j  0.85+0.j -0.2 +0.j  0.  +0.j]\n",
      " [ 0.  +0.j -0.2 +0.j  0.15+0.j  0.  +0.j]\n",
      " [ 0.  +0.j  0.  +0.j  0.  +0.j -1.55+0.j]]\n",
      ">\n"
     ]
    }
   ],
   "source": [
    "print(H2)"
   ]
  },
  {
   "cell_type": "code",
   "execution_count": 105,
   "metadata": {},
   "outputs": [
    {
     "name": "stdout",
     "output_type": "stream",
     "text": [
      "<npc.Array shape=(4, 4) labels=['(p0.p1)', '(p0*.p1*)']\n",
      "charge=ChargeInfo([], [])\n",
      "LegPipe(shape (2, 2)->4,    |LegPipe(shape (2, 2)->4,    \n",
      "    qconj (+1, +1)->+1;     |    qconj (-1, -1)->-1;     \n",
      "    block numbers (1, 1)->1)|    block numbers (1, 1)->1)\n",
      " +1  |  +1                  | -1  |  -1                  \n",
      "0 [] | 0 []                 |0 [] | 0 []                 \n",
      "2    | 2                    |2    | 2                    \n",
      ")                           |)                           \n",
      "[[ 1.73325302+0.j  0.        +0.j  0.        +0.j  0.        +0.j]\n",
      " [ 0.        +0.j  2.37731217+0.j -0.33874767+0.j  0.        +0.j]\n",
      " [ 0.        +0.j -0.33874767+0.j  1.19169533+0.j  0.        +0.j]\n",
      " [ 0.        +0.j  0.        +0.j  0.        +0.j  0.21224797+0.j]]\n",
      ">\n"
     ]
    },
    {
     "data": {
      "text/plain": [
       "<npc.Array shape=(4, 4) labels=['(p0.p1)', '(p0*.p1*)']>"
      ]
     },
     "execution_count": 105,
     "metadata": {},
     "output_type": "execute_result"
    }
   ],
   "source": [
    "truth = npc.expm(H2)\n",
    "print(truth)\n",
    "truth"
   ]
  },
  {
   "cell_type": "code",
   "execution_count": 121,
   "metadata": {},
   "outputs": [
    {
     "name": "stdout",
     "output_type": "stream",
     "text": [
      "<npc.Array shape=(4, 4) labels=['(p0.p1)', '(p0*.p1*)']\n",
      "charge=ChargeInfo([], [])\n",
      "LegPipe(shape (2, 2)->4,    |LegPipe(shape (2, 2)->4,    \n",
      "    qconj (+1, +1)->+1;     |    qconj (-1, -1)->-1;     \n",
      "    block numbers (1, 1)->1)|    block numbers (1, 1)->1)\n",
      " +1  |  +1                  | -1  |  -1                  \n",
      "0 [] | 0 []                 |0 [] | 0 []                 \n",
      "2    | 2                    |2    | 2                    \n",
      ")                           |)                           \n",
      "[[ 1.73325302+0.j  0.        +0.j  0.        +0.j  0.        +0.j]\n",
      " [ 0.        +0.j  2.37731217+0.j -0.33874767+0.j  0.        +0.j]\n",
      " [ 0.        +0.j -0.33874767+0.j  1.19169533+0.j  0.        +0.j]\n",
      " [ 0.        +0.j  0.        +0.j  0.        +0.j  0.21224797+0.j]]\n",
      ">\n",
      "<npc.Array shape=(4, 4) labels=['(p0.p1)', '(p0*.p1*)']\n",
      "charge=ChargeInfo([], [])\n",
      "LegPipe(shape (2, 2)->4,    |LegPipe(shape (2, 2)->4,    \n",
      "    qconj (+1, +1)->+1;     |    qconj (-1, -1)->-1;     \n",
      "    block numbers (1, 1)->1)|    block numbers (1, 1)->1)\n",
      " +1  |  +1                  | -1  |  -1                  \n",
      "0 [] | 0 []                 |0 [] | 0 []                 \n",
      "2    | 2                    |2    | 2                    \n",
      ")                           |)                           \n",
      "[[1.+0.j 0.+0.j 0.+0.j 0.+0.j]\n",
      " [0.+0.j 1.+0.j 0.+0.j 0.+0.j]\n",
      " [0.+0.j 0.+0.j 1.+0.j 0.+0.j]\n",
      " [0.+0.j 0.+0.j 0.+0.j 1.+0.j]]\n",
      ">\n"
     ]
    }
   ],
   "source": [
    "cnot_gate = np.array([[1, 0, 0, 0],\n",
    "                      [0, 1, 0, 0],\n",
    "                      [0, 0, 1, 0],\n",
    "                      [0, 0, 0, 1]])\n",
    "c = truth.copy(deep=True)\n",
    "print(c)\n",
    "c._data = [cnot_gate]\n",
    "print(c)\n"
   ]
  },
  {
   "cell_type": "code",
   "execution_count": 117,
   "metadata": {},
   "outputs": [],
   "source": [
    "a  = np.array([[ 1.73325302+0.j,  0.        +0.j,  0.        +0.j,\n",
    "          0.        +0.j],\n",
    "        [ 0.        +0.j,  2.37731217+0.j, -0.33874767+0.j,\n",
    "          0.        +0.j],\n",
    "        [ 0.        +0.j, -0.33874767+0.j,  1.19169533+0.j,\n",
    "          0.        +0.j],\n",
    "        [ 0.        +0.j,  0.        +0.j,  0.        +0.j,\n",
    "          0.21224797+0.j]])"
   ]
  },
  {
   "cell_type": "code",
   "execution_count": 115,
   "metadata": {},
   "outputs": [
    {
     "data": {
      "text/plain": [
       "[array([[ 1.73325302+0.j,  0.        +0.j,  0.        +0.j,\n",
       "          0.        +0.j],\n",
       "        [ 0.        +0.j,  2.37731217+0.j, -0.33874767+0.j,\n",
       "          0.        +0.j],\n",
       "        [ 0.        +0.j, -0.33874767+0.j,  1.19169533+0.j,\n",
       "          0.        +0.j],\n",
       "        [ 0.        +0.j,  0.        +0.j,  0.        +0.j,\n",
       "          0.21224797+0.j]])]"
      ]
     },
     "execution_count": 115,
     "metadata": {},
     "output_type": "execute_result"
    }
   ],
   "source": [
    "c._data"
   ]
  },
  {
   "cell_type": "code",
   "execution_count": 92,
   "metadata": {},
   "outputs": [
    {
     "name": "stdout",
     "output_type": "stream",
     "text": [
      "<npc.Array shape=(4, 4) labels=['(p0.p1)', '(p0*.p1*)']\n",
      "charge=ChargeInfo([], [])\n",
      " +1 | -1 \n",
      "0 []|0 []\n",
      "4   |4   \n",
      "[[1 0 0 0]\n",
      " [0 1 0 0]\n",
      " [0 0 1 0]\n",
      " [0 0 0 1]]\n",
      ">\n"
     ]
    }
   ],
   "source": [
    "cnot_gate = np.array([[1, 0, 0, 0],\n",
    "                      [0, 1, 0, 0],\n",
    "                      [0, 0, 1, 0],\n",
    "                      [0, 0, 0, 1]])\n",
    "\n",
    "# cnot_gate = npc.Array.from_ndarray(cnot_gate,labels=['(p0.p1)', '(p0*.p1*)'],legcharges=[truth.get_leg(0).to_LegCharge(),truth.get_leg(1).to_LegCharge()])\n",
    "print(cnot_gate)"
   ]
  },
  {
   "cell_type": "code",
   "execution_count": null,
   "metadata": {},
   "outputs": [],
   "source": []
  },
  {
   "cell_type": "code",
   "execution_count": 76,
   "metadata": {},
   "outputs": [
    {
     "data": {
      "text/plain": [
       "array([[ 1.73325302+0.j,  0.        +0.j,  0.        +0.j,\n",
       "         0.        +0.j],\n",
       "       [ 0.        +0.j,  2.37731217+0.j, -0.33874767+0.j,\n",
       "         0.        +0.j],\n",
       "       [ 0.        +0.j, -0.33874767+0.j,  1.19169533+0.j,\n",
       "         0.        +0.j],\n",
       "       [ 0.        +0.j,  0.        +0.j,  0.        +0.j,\n",
       "         0.21224797+0.j]])"
      ]
     },
     "execution_count": 76,
     "metadata": {},
     "output_type": "execute_result"
    }
   ],
   "source": [
    "tensor = npc.tensordot(truth,cnot_gate,axes=['(p0.p1)', '(p0*.p1*)'])\n",
    "tensor.to_ndarray()"
   ]
  },
  {
   "cell_type": "code",
   "execution_count": 35,
   "metadata": {},
   "outputs": [
    {
     "data": {
      "text/plain": [
       "<npc.Array shape=(4, 4) labels=['(p0.p1)', '(p0*.p1*)']>"
      ]
     },
     "execution_count": 35,
     "metadata": {},
     "output_type": "execute_result"
    }
   ],
   "source": [
    "tensor."
   ]
  },
  {
   "cell_type": "code",
   "execution_count": 34,
   "metadata": {},
   "outputs": [
    {
     "name": "stdout",
     "output_type": "stream",
     "text": [
      "<npc.Array shape=(4, 4) labels=['(p0.p1)', '(p0*.p1*)']\n",
      "charge=ChargeInfo([], [])\n",
      "LegPipe(shape (2, 2)->4,    |LegPipe(shape (2, 2)->4,    \n",
      "    qconj (+1, +1)->+1;     |    qconj (-1, -1)->-1;     \n",
      "    block numbers (1, 1)->1)|    block numbers (1, 1)->1)\n",
      " +1  |  +1                  | -1  |  -1                  \n",
      "0 [] | 0 []                 |0 [] | 0 []                 \n",
      "2    | 2                    |2    | 2                    \n",
      ")                           |)                           \n",
      "[[ 0.55+0.j  0.  +0.j  0.  +0.j  0.  +0.j]\n",
      " [ 0.  +0.j  0.85+0.j -0.2 +0.j  0.  +0.j]\n",
      " [ 0.  +0.j -0.2 +0.j  0.15+0.j  0.  +0.j]\n",
      " [ 0.  +0.j  0.  +0.j  0.  +0.j -1.55+0.j]]\n",
      ">\n"
     ]
    }
   ],
   "source": [
    "print(model.H_bond[1].combine_legs([('p0', 'p1'), ('p0*', 'p1*')], qconj=[+1, -1]))"
   ]
  },
  {
   "cell_type": "code",
   "execution_count": 125,
   "metadata": {},
   "outputs": [
    {
     "name": "stdout",
     "output_type": "stream",
     "text": [
      "3\n"
     ]
    }
   ],
   "source": [
    "a = 2\n",
    "if a == 2 or 3:\n",
    "    print()"
   ]
  },
  {
   "cell_type": "code",
   "execution_count": 122,
   "metadata": {},
   "outputs": [],
   "source": [
    "a = {}\n",
    "if a:\n",
    "    print(2)"
   ]
  },
  {
   "cell_type": "code",
   "execution_count": 20,
   "metadata": {},
   "outputs": [
    {
     "name": "stderr",
     "output_type": "stream",
     "text": [
      "/Users/alanduriez/miniconda3/envs/tenpy_dev/lib/python3.12/site-packages/matplotlib/cbook.py:1762: ComplexWarning: Casting complex values to real discards the imaginary part\n",
      "  return math.isfinite(val)\n",
      "/Users/alanduriez/miniconda3/envs/tenpy_dev/lib/python3.12/site-packages/matplotlib/cbook.py:1398: ComplexWarning: Casting complex values to real discards the imaginary part\n",
      "  return np.asarray(x, float)\n"
     ]
    },
    {
     "data": {
      "text/plain": [
       "Text(0.5, 0, 'time $t$')"
      ]
     },
     "execution_count": 20,
     "metadata": {},
     "output_type": "execute_result"
    },
    {
     "data": {
      "image/png": "[encoded data removed]",
      "text/plain": [
       "<Figure size 640x480 with 1 Axes>"
      ]
     },
     "metadata": {},
     "output_type": "display_data"
    }
   ],
   "source": [
    "plt.plot(data['t'], mx/np.array(L),'o',label='mx TEBD')\n",
    "plt.plot(data['t'], my/np.array(L),'s',label='my TEBD')\n",
    "plt.plot(data['t'], mz/np.array(L),'>',label='mz TEBD')\n",
    "plt.plot(times,mags_x,label='mx exact')\n",
    "plt.plot(times,mags_y,label='y exact')\n",
    "plt.plot(times,mags_z,label='z exact')\n",
    "plt.legend()\n",
    "plt.xlabel('time $t$')"
   ]
  },
  {
   "cell_type": "code",
   "execution_count": 21,
   "metadata": {},
   "outputs": [
    {
     "data": {
      "text/plain": [
       "Text(0, 0.5, 'entropy $S$')"
      ]
     },
     "execution_count": 21,
     "metadata": {},
     "output_type": "execute_result"
    },
    {
     "data": {
      "image/png": "[encoded data removed]",
      "text/plain": [
       "<Figure size 640x480 with 1 Axes>"
      ]
     },
     "metadata": {},
     "output_type": "display_data"
    }
   ],
   "source": [
    "plt.plot(data['t'], np.array(data['entropy'])[:, L//2])\n",
    "plt.xlabel('time $t$')\n",
    "plt.ylabel('entropy $S$')"
   ]
  }
 ],
 "metadata": {
  "kernelspec": {
   "display_name": "tenpy_dev",
   "language": "python",
   "name": "python3"
  },
  "language_info": {
   "codemirror_mode": {
    "name": "ipython",
    "version": 3
   },
   "file_extension": ".py",
   "mimetype": "text/x-python",
   "name": "python",
   "nbconvert_exporter": "python",
   "pygments_lexer": "ipython3",
   "version": "3.12.4"
  }
 },
 "nbformat": 4,
 "nbformat_minor": 2
}
